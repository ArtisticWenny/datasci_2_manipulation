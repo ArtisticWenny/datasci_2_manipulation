{
  "nbformat": 4,
  "nbformat_minor": 0,
  "metadata": {
    "colab": {
      "provenance": [],
      "authorship_tag": "ABX9TyMtbGQpQmGJ9imUX0UkB6Ig",
      "include_colab_link": true
    },
    "kernelspec": {
      "name": "python3",
      "display_name": "Python 3"
    },
    "language_info": {
      "name": "python"
    }
  },
  "cells": [
    {
      "cell_type": "markdown",
      "metadata": {
        "id": "view-in-github",
        "colab_type": "text"
      },
      "source": [
        "<a href=\"https://colab.research.google.com/github/ArtisticWenny/datasci_2_manipulation/blob/main/datasci_2_manipulation.ipynb\" target=\"_parent\"><img src=\"https://colab.research.google.com/assets/colab-badge.svg\" alt=\"Open In Colab\"/></a>"
      ]
    },
    {
      "cell_type": "code",
      "source": [
        "from google.colab import drive\n",
        "drive.mount('/content/gdrive')\n",
        "\n",
        "import pandas as pd\n",
        "\n",
        "csv_file_path = '/content/gdrive/My Drive/healthcare_data_cleaning.csv'\n",
        "\n",
        "df = pd.read_csv(csv_file_path)\n",
        "\n",
        "print(df.head)"
      ],
      "metadata": {
        "colab": {
          "base_uri": "https://localhost:8080/"
        },
        "id": "GndBa65RHZd7",
        "outputId": "dc091213-bf0b-412c-9f5d-2773fe318058"
      },
      "execution_count": 2,
      "outputs": [
        {
          "output_type": "stream",
          "name": "stdout",
          "text": [
            "Mounted at /content/gdrive\n",
            "<bound method NDFrame.head of        Patient Age  Gender  City of Residence State of Residence  \\\n",
            "0               45   Other         West Brian           Kentucky   \n",
            "1               25  Female   East Jocelynfurt           Colorado   \n",
            "2               51   Other  South Lindseyland               Ohio   \n",
            "3               18  Female         Taylorfort       Pennsylvania   \n",
            "4               48  Female          Birdmouth            Montana   \n",
            "...            ...     ...                ...                ...   \n",
            "104995          74   Other       West Anthony           Oklahoma   \n",
            "104996          37    Male          Mckeetown               Utah   \n",
            "104997          51  Female   Lake Lisachester           Nebraska   \n",
            "104998     missing  Female       Heidiborough            missing   \n",
            "104999          45  Female      South Jeffrey      Massachusetts   \n",
            "\n",
            "       Has Insurance Visited Last Month Payment Method Preferred Doctor  \\\n",
            "0                Yes                Yes      Insurance     Dr. Williams   \n",
            "1                 No                Yes           Card      Dr. Johnson   \n",
            "2                Yes                 No           Cash     Dr. Williams   \n",
            "3                Yes            missing           Cash     Dr. Williams   \n",
            "4                 No                 No      Insurance        Dr. Brown   \n",
            "...              ...                ...            ...              ...   \n",
            "104995           Yes                 No           Card     Dr. Williams   \n",
            "104996           Yes                 No           Cash        Dr. Jones   \n",
            "104997           Yes                Yes      Insurance     Dr. Williams   \n",
            "104998           Yes                 No           Cash        Dr. Smith   \n",
            "104999            No                Yes           Cash        Dr. Brown   \n",
            "\n",
            "       Disease Diagnosed Medication Prescribed Type of Appointment  \\\n",
            "0                    Flu                 Med_E             General   \n",
            "1                    Flu                 Med_B          Specialist   \n",
            "2               Covid-19                 Med_D             General   \n",
            "3                    Flu                 Med_A             General   \n",
            "4                   None                 Med_C          Specialist   \n",
            "...                  ...                   ...                 ...   \n",
            "104995          Covid-19                 Med_E          Specialist   \n",
            "104996          Covid-19                 Med_C             General   \n",
            "104997           Allergy                 Med_D           Follow-Up   \n",
            "104998          Covid-19                 Med_A           Follow-Up   \n",
            "104999           Allergy                 Med_D             General   \n",
            "\n",
            "       Average Heart Rate Average BP Height (in cm) Weight (in kg)  \\\n",
            "0                      66        111            183             70   \n",
            "1                      59    missing            174             58   \n",
            "2                      79        119            161             56   \n",
            "3                      99        115            171             52   \n",
            "4                      93         89            186             87   \n",
            "...                   ...        ...            ...            ...   \n",
            "104995                 65        112            169             61   \n",
            "104996            missing        111            165             67   \n",
            "104997                 89        118            179             71   \n",
            "104998                 74        123            167             75   \n",
            "104999                 77        140            167             62   \n",
            "\n",
            "           Payment Due ($) Last Visit (days ago) Visit Duration (mins)  \\\n",
            "0        65.45721578126224                   193                    92   \n",
            "1       430.68365678679174                   195               missing   \n",
            "2        315.0709305262176               missing                    37   \n",
            "3        320.2998987723972                   175                   108   \n",
            "4        264.2147372473319                   188                   113   \n",
            "...                    ...                   ...                   ...   \n",
            "104995  309.16444606680665                   183                    10   \n",
            "104996             missing                   191                    47   \n",
            "104997   320.8304180033907                   172                    39   \n",
            "104998   5.341231420036174                   180                    79   \n",
            "104999  454.94983945860804                   167                    81   \n",
            "\n",
            "       Number of Tests Prescription Cost ($)  \n",
            "0                    5     15.71751735532889  \n",
            "1                    4     80.78647284463952  \n",
            "2                    2      64.3921393009105  \n",
            "3                    2     8.872859215315316  \n",
            "4                    3     77.48311304645532  \n",
            "...                ...                   ...  \n",
            "104995               3     63.20478776719894  \n",
            "104996               2    113.86764025370326  \n",
            "104997               3    35.622420232475356  \n",
            "104998         missing     124.4083409893742  \n",
            "104999         missing     87.91060149353706  \n",
            "\n",
            "[105000 rows x 20 columns]>\n"
          ]
        }
      ]
    }
  ]
}