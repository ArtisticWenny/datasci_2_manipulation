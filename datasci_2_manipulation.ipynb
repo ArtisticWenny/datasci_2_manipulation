{
  "nbformat": 4,
  "nbformat_minor": 0,
  "metadata": {
    "colab": {
      "provenance": [],
      "authorship_tag": "ABX9TyMW/Q7FvaJ25wHvKKufDYaG",
      "include_colab_link": true
    },
    "kernelspec": {
      "name": "python3",
      "display_name": "Python 3"
    },
    "language_info": {
      "name": "python"
    }
  },
  "cells": [
    {
      "cell_type": "markdown",
      "metadata": {
        "id": "view-in-github",
        "colab_type": "text"
      },
      "source": [
        "<a href=\"https://colab.research.google.com/github/ArtisticWenny/datasci_2_manipulation/blob/main/datasci_2_manipulation.ipynb\" target=\"_parent\"><img src=\"https://colab.research.google.com/assets/colab-badge.svg\" alt=\"Open In Colab\"/></a>"
      ]
    },
    {
      "cell_type": "markdown",
      "source": [
        "load in google drive content\n",
        "import packages\n",
        "and load CSV file"
      ],
      "metadata": {
        "id": "gw4KmmSjH1hw"
      }
    },
    {
      "cell_type": "code",
      "source": [
        "from google.colab import drive\n",
        "drive.mount('/content/gdrive')\n",
        "\n",
        "import pandas as pd\n",
        "\n",
        "csv_file_path = '/content/gdrive/My Drive/healthcare_data_cleaning.csv'\n",
        "\n",
        "df = pd.read_csv(csv_file_path)\n",
        "\n",
        "print(df.head)"
      ],
      "metadata": {
        "colab": {
          "base_uri": "https://localhost:8080/"
        },
        "id": "GndBa65RHZd7",
        "outputId": "b36ee586-a86c-43e5-8fbb-a98ea5c4af53"
      },
      "execution_count": 2,
      "outputs": [
        {
          "output_type": "stream",
          "name": "stdout",
          "text": [
            "Mounted at /content/gdrive\n",
            "<bound method NDFrame.head of        Patient Age  Gender  City of Residence State of Residence  \\\n",
            "0               45   Other         West Brian           Kentucky   \n",
            "1               25  Female   East Jocelynfurt           Colorado   \n",
            "2               51   Other  South Lindseyland               Ohio   \n",
            "3               18  Female         Taylorfort       Pennsylvania   \n",
            "4               48  Female          Birdmouth            Montana   \n",
            "...            ...     ...                ...                ...   \n",
            "104995          74   Other       West Anthony           Oklahoma   \n",
            "104996          37    Male          Mckeetown               Utah   \n",
            "104997          51  Female   Lake Lisachester           Nebraska   \n",
            "104998     missing  Female       Heidiborough            missing   \n",
            "104999          45  Female      South Jeffrey      Massachusetts   \n",
            "\n",
            "       Has Insurance Visited Last Month Payment Method Preferred Doctor  \\\n",
            "0                Yes                Yes      Insurance     Dr. Williams   \n",
            "1                 No                Yes           Card      Dr. Johnson   \n",
            "2                Yes                 No           Cash     Dr. Williams   \n",
            "3                Yes            missing           Cash     Dr. Williams   \n",
            "4                 No                 No      Insurance        Dr. Brown   \n",
            "...              ...                ...            ...              ...   \n",
            "104995           Yes                 No           Card     Dr. Williams   \n",
            "104996           Yes                 No           Cash        Dr. Jones   \n",
            "104997           Yes                Yes      Insurance     Dr. Williams   \n",
            "104998           Yes                 No           Cash        Dr. Smith   \n",
            "104999            No                Yes           Cash        Dr. Brown   \n",
            "\n",
            "       Disease Diagnosed Medication Prescribed Type of Appointment  \\\n",
            "0                    Flu                 Med_E             General   \n",
            "1                    Flu                 Med_B          Specialist   \n",
            "2               Covid-19                 Med_D             General   \n",
            "3                    Flu                 Med_A             General   \n",
            "4                   None                 Med_C          Specialist   \n",
            "...                  ...                   ...                 ...   \n",
            "104995          Covid-19                 Med_E          Specialist   \n",
            "104996          Covid-19                 Med_C             General   \n",
            "104997           Allergy                 Med_D           Follow-Up   \n",
            "104998          Covid-19                 Med_A           Follow-Up   \n",
            "104999           Allergy                 Med_D             General   \n",
            "\n",
            "       Average Heart Rate Average BP Height (in cm) Weight (in kg)  \\\n",
            "0                      66        111            183             70   \n",
            "1                      59    missing            174             58   \n",
            "2                      79        119            161             56   \n",
            "3                      99        115            171             52   \n",
            "4                      93         89            186             87   \n",
            "...                   ...        ...            ...            ...   \n",
            "104995                 65        112            169             61   \n",
            "104996            missing        111            165             67   \n",
            "104997                 89        118            179             71   \n",
            "104998                 74        123            167             75   \n",
            "104999                 77        140            167             62   \n",
            "\n",
            "           Payment Due ($) Last Visit (days ago) Visit Duration (mins)  \\\n",
            "0        65.45721578126224                   193                    92   \n",
            "1       430.68365678679174                   195               missing   \n",
            "2        315.0709305262176               missing                    37   \n",
            "3        320.2998987723972                   175                   108   \n",
            "4        264.2147372473319                   188                   113   \n",
            "...                    ...                   ...                   ...   \n",
            "104995  309.16444606680665                   183                    10   \n",
            "104996             missing                   191                    47   \n",
            "104997   320.8304180033907                   172                    39   \n",
            "104998   5.341231420036174                   180                    79   \n",
            "104999  454.94983945860804                   167                    81   \n",
            "\n",
            "       Number of Tests Prescription Cost ($)  \n",
            "0                    5     15.71751735532889  \n",
            "1                    4     80.78647284463952  \n",
            "2                    2      64.3921393009105  \n",
            "3                    2     8.872859215315316  \n",
            "4                    3     77.48311304645532  \n",
            "...                ...                   ...  \n",
            "104995               3     63.20478776719894  \n",
            "104996               2    113.86764025370326  \n",
            "104997               3    35.622420232475356  \n",
            "104998         missing     124.4083409893742  \n",
            "104999         missing     87.91060149353706  \n",
            "\n",
            "[105000 rows x 20 columns]>\n"
          ]
        }
      ]
    },
    {
      "cell_type": "markdown",
      "source": [
        "### Data Interpretation\n",
        "This looks like data of patient information that relates to what kind of diseases, average vital signs, location, payment and duration of visit"
      ],
      "metadata": {
        "id": "wR7wwtKHnxBr"
      }
    },
    {
      "cell_type": "markdown",
      "source": [
        "## Inspecting Shape"
      ],
      "metadata": {
        "id": "Nf82-_l9oS9_"
      }
    },
    {
      "cell_type": "code",
      "source": [
        "# Check the size and shape of the DataFrame\n",
        "print(\"Number of rows:\", df.shape[0])\n",
        "print(\"Number of columns:\", df.shape[1])"
      ],
      "metadata": {
        "colab": {
          "base_uri": "https://localhost:8080/"
        },
        "id": "7maZfghSomKm",
        "outputId": "7da1c681-5944-4c58-8e1e-dc811a2b0861"
      },
      "execution_count": 11,
      "outputs": [
        {
          "output_type": "stream",
          "name": "stdout",
          "text": [
            "Number of rows: 105000\n",
            "Number of columns: 20\n"
          ]
        }
      ]
    },
    {
      "cell_type": "code",
      "source": [
        "# Check for missing values in a column\n",
        "print(df['Patient Age'].isnull().sum())"
      ],
      "metadata": {
        "colab": {
          "base_uri": "https://localhost:8080/"
        },
        "id": "lPf5BZ0ls-Hg",
        "outputId": "6a03b1f4-0524-4657-925f-af12d52a85a4"
      },
      "execution_count": 12,
      "outputs": [
        {
          "output_type": "stream",
          "name": "stdout",
          "text": [
            "0\n"
          ]
        }
      ]
    },
    {
      "cell_type": "code",
      "source": [
        "# Check for missing values in a column\n",
        "print(df['Gender'].isnull().sum())"
      ],
      "metadata": {
        "colab": {
          "base_uri": "https://localhost:8080/"
        },
        "id": "alftxsyvtVmR",
        "outputId": "211922c6-70fb-48aa-a4ee-69e62a56c60c"
      },
      "execution_count": 17,
      "outputs": [
        {
          "output_type": "stream",
          "name": "stdout",
          "text": [
            "0\n"
          ]
        }
      ]
    },
    {
      "cell_type": "code",
      "source": [
        "# Check for missing values in a column\n",
        "print(df['Preferred Doctor'].isnull().sum())"
      ],
      "metadata": {
        "colab": {
          "base_uri": "https://localhost:8080/"
        },
        "id": "6pbACRF8taGw",
        "outputId": "5b069dad-57d5-46c5-80aa-f4791e23b4bb"
      },
      "execution_count": 16,
      "outputs": [
        {
          "output_type": "stream",
          "name": "stdout",
          "text": [
            "0\n"
          ]
        }
      ]
    },
    {
      "cell_type": "code",
      "source": [
        "# Check for missing values in a column\n",
        "print(df['City of Residence'].isnull().sum())"
      ],
      "metadata": {
        "colab": {
          "base_uri": "https://localhost:8080/"
        },
        "id": "Q-h5AIqluq-z",
        "outputId": "37ffe908-d429-48a5-9963-c77e501af334"
      },
      "execution_count": 19,
      "outputs": [
        {
          "output_type": "stream",
          "name": "stdout",
          "text": [
            "5227\n"
          ]
        }
      ]
    },
    {
      "cell_type": "code",
      "source": [
        "# Check for missing values in a column\n",
        "print(df['State of Residence'].isnull().sum())"
      ],
      "metadata": {
        "colab": {
          "base_uri": "https://localhost:8080/"
        },
        "id": "BB4lFSocu3nJ",
        "outputId": "03371128-ff79-469e-e9f5-fae9fc26df82"
      },
      "execution_count": 20,
      "outputs": [
        {
          "output_type": "stream",
          "name": "stdout",
          "text": [
            "5248\n"
          ]
        }
      ]
    },
    {
      "cell_type": "code",
      "source": [
        "# Check for missing values in a column\n",
        "print(df['Has Insurance'].isnull().sum())"
      ],
      "metadata": {
        "colab": {
          "base_uri": "https://localhost:8080/"
        },
        "id": "N7Og0Tj8u8HX",
        "outputId": "69801cff-3baa-4f12-cca1-f16de1e4994e"
      },
      "execution_count": 21,
      "outputs": [
        {
          "output_type": "stream",
          "name": "stdout",
          "text": [
            "5246\n"
          ]
        }
      ]
    },
    {
      "cell_type": "code",
      "source": [],
      "metadata": {
        "id": "CniY1U7AvFc4"
      },
      "execution_count": null,
      "outputs": []
    },
    {
      "cell_type": "code",
      "source": [
        "# Handling custom representation for missing data\n",
        "custom_missing_values = [\"missing\", \"N/A\"]\n",
        "df.replace(custom_missing_values, pd.NA, inplace=True)\n",
        "\n",
        "print(\"\\nDataFrame with Missing Data Handled:\")\n",
        "print(df)"
      ],
      "metadata": {
        "colab": {
          "base_uri": "https://localhost:8080/"
        },
        "id": "CBmvEIGitwBZ",
        "outputId": "717f8406-8fe1-4eee-93a6-ae44ff8d31ec"
      },
      "execution_count": 18,
      "outputs": [
        {
          "output_type": "stream",
          "name": "stdout",
          "text": [
            "\n",
            "DataFrame with Missing Data Handled:\n",
            "       Patient Age Gender  City of Residence State of Residence Has Insurance  \\\n",
            "0               45     45         West Brian           Kentucky           Yes   \n",
            "1               25     25   East Jocelynfurt           Colorado            No   \n",
            "2               51     51  South Lindseyland               Ohio           Yes   \n",
            "3               18     18         Taylorfort       Pennsylvania           Yes   \n",
            "4               48     48          Birdmouth            Montana            No   \n",
            "...            ...    ...                ...                ...           ...   \n",
            "104995          74     74       West Anthony           Oklahoma           Yes   \n",
            "104996          37     37          Mckeetown               Utah           Yes   \n",
            "104997          51     51   Lake Lisachester           Nebraska           Yes   \n",
            "104998        <NA>   <NA>       Heidiborough               <NA>           Yes   \n",
            "104999          45     45      South Jeffrey      Massachusetts            No   \n",
            "\n",
            "       Visited Last Month Payment Method Preferred Doctor Disease Diagnosed  \\\n",
            "0                     Yes      Insurance     Dr. Williams               Flu   \n",
            "1                     Yes           Card      Dr. Johnson               Flu   \n",
            "2                      No           Cash     Dr. Williams          Covid-19   \n",
            "3                    <NA>           Cash     Dr. Williams               Flu   \n",
            "4                      No      Insurance        Dr. Brown              None   \n",
            "...                   ...            ...              ...               ...   \n",
            "104995                 No           Card     Dr. Williams          Covid-19   \n",
            "104996                 No           Cash        Dr. Jones          Covid-19   \n",
            "104997                Yes      Insurance     Dr. Williams           Allergy   \n",
            "104998                 No           Cash        Dr. Smith          Covid-19   \n",
            "104999                Yes           Cash        Dr. Brown           Allergy   \n",
            "\n",
            "       Medication Prescribed Type of Appointment Average Heart Rate  \\\n",
            "0                      Med_E             General                 66   \n",
            "1                      Med_B          Specialist                 59   \n",
            "2                      Med_D             General                 79   \n",
            "3                      Med_A             General                 99   \n",
            "4                      Med_C          Specialist                 93   \n",
            "...                      ...                 ...                ...   \n",
            "104995                 Med_E          Specialist                 65   \n",
            "104996                 Med_C             General               <NA>   \n",
            "104997                 Med_D           Follow-Up                 89   \n",
            "104998                 Med_A           Follow-Up                 74   \n",
            "104999                 Med_D             General                 77   \n",
            "\n",
            "       Average BP Height (in cm) Weight (in kg)     Payment Due ($)  \\\n",
            "0             111            183             70   65.45721578126224   \n",
            "1            <NA>            174             58  430.68365678679174   \n",
            "2             119            161             56   315.0709305262176   \n",
            "3             115            171             52   320.2998987723972   \n",
            "4              89            186             87   264.2147372473319   \n",
            "...           ...            ...            ...                 ...   \n",
            "104995        112            169             61  309.16444606680665   \n",
            "104996        111            165             67                <NA>   \n",
            "104997        118            179             71   320.8304180033907   \n",
            "104998        123            167             75   5.341231420036174   \n",
            "104999        140            167             62  454.94983945860804   \n",
            "\n",
            "       Last Visit (days ago) Visit Duration (mins) Number of Tests  \\\n",
            "0                        193                    92               5   \n",
            "1                        195                  <NA>               4   \n",
            "2                       <NA>                    37               2   \n",
            "3                        175                   108               2   \n",
            "4                        188                   113               3   \n",
            "...                      ...                   ...             ...   \n",
            "104995                   183                    10               3   \n",
            "104996                   191                    47               2   \n",
            "104997                   172                    39               3   \n",
            "104998                   180                    79            <NA>   \n",
            "104999                   167                    81            <NA>   \n",
            "\n",
            "       Prescription Cost ($)  \n",
            "0          15.71751735532889  \n",
            "1          80.78647284463952  \n",
            "2           64.3921393009105  \n",
            "3          8.872859215315316  \n",
            "4          77.48311304645532  \n",
            "...                      ...  \n",
            "104995     63.20478776719894  \n",
            "104996    113.86764025370326  \n",
            "104997    35.622420232475356  \n",
            "104998     124.4083409893742  \n",
            "104999     87.91060149353706  \n",
            "\n",
            "[105000 rows x 20 columns]\n"
          ]
        }
      ]
    },
    {
      "cell_type": "code",
      "source": [
        "df.dropna(inplace=True)"
      ],
      "metadata": {
        "id": "7SRgzEYUtQ0N"
      },
      "execution_count": 14,
      "outputs": []
    }
  ]
}